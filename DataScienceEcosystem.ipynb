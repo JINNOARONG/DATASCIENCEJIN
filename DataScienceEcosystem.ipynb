{
 "cells": [
  {
   "cell_type": "markdown",
   "id": "9bc2f2d9-d0df-4c52-b481-99dd264eedb6",
   "metadata": {},
   "source": [
    "# Data Science Tools and Ecosystem"
   ]
  },
  {
   "cell_type": "markdown",
   "id": "63f00931-45f3-4ba3-b3f0-b17e6d5698b7",
   "metadata": {},
   "source": [
    "# In this notebook, Data Science Tools and Ecosystem are summarized"
   ]
  },
  {
   "cell_type": "markdown",
   "id": "dd1b8c35-1b00-4d39-80b8-9bf02e925b61",
   "metadata": {},
   "source": [
    "**Objectives**\n",
    "\n",
    "- List commonly used libraries by Data Science\n",
    "- List popular languages data scientists use\n",
    "- Give and example to evaluate arithmetic expressions in Python"
   ]
  },
  {
   "cell_type": "markdown",
   "id": "8d61fb8c-270d-46fa-a5bb-9d7bcea689bb",
   "metadata": {},
   "source": [
    "# Some of the popular languanges that Data Scientists use are:\n",
    "\n",
    "1. Python\n",
    "2. R\n",
    "3. SQL\n",
    "4. Scala\n",
    "5. Java\n",
    "6. C++\n",
    "7. Julia\n",
    "   "
   ]
  },
  {
   "cell_type": "markdown",
   "id": "52580eca-4be6-486d-9c84-ae0d43d82bd9",
   "metadata": {},
   "source": [
    "# Some of the commonly used libraries used by Data Scientists include:\n",
    "1. Panda\n",
    "2. Numpy\n",
    "3. Matplotlib\n",
    "4. Seaborn\n",
    "5. Keras\n",
    "6. Tensorflow\n",
    "7. Pytorch\n"
   ]
  },
  {
   "cell_type": "markdown",
   "id": "5af2bbad-d0b0-4a41-848d-87d098380be0",
   "metadata": {},
   "source": [
    "|Data Science Tools|\n",
    "|-----|\n",
    "|Jupyter|\n",
    "|RStudio|\n",
    "|Spyder|"
   ]
  },
  {
   "cell_type": "markdown",
   "id": "95074f57-532e-4047-84d2-e3a25f9eadb5",
   "metadata": {},
   "source": [
    "### Below are a few examples of evaluating arithmetic expressions in Python"
   ]
  },
  {
   "cell_type": "code",
   "execution_count": 4,
   "id": "b4d08468-c1e1-4c92-b821-3affbfd24918",
   "metadata": {},
   "outputs": [
    {
     "data": {
      "text/plain": [
       "17"
      ]
     },
     "execution_count": 4,
     "metadata": {},
     "output_type": "execute_result"
    }
   ],
   "source": [
    "#  This a simple arithmetic expression to mutiply then add integers.\n",
    "(3*4)+5"
   ]
  },
  {
   "cell_type": "code",
   "execution_count": 7,
   "id": "6bb4f58f-7194-40e4-8d8b-0ca161fc3e4c",
   "metadata": {},
   "outputs": [
    {
     "data": {
      "text/plain": [
       "3.3333333333333335"
      ]
     },
     "execution_count": 7,
     "metadata": {},
     "output_type": "execute_result"
    }
   ],
   "source": [
    "# This will convert 200 minutes to hours by diving by 60\n",
    "200/60\n"
   ]
  },
  {
   "cell_type": "markdown",
   "id": "d69224c4-53c7-468c-965a-59570eca9fc2",
   "metadata": {},
   "source": [
    "## Author\n",
    "Jinno Arong"
   ]
  },
  {
   "cell_type": "code",
   "execution_count": null,
   "id": "74f6f30e-393e-4917-a281-598c148d1451",
   "metadata": {},
   "outputs": [],
   "source": []
  }
 ],
 "metadata": {
  "kernelspec": {
   "display_name": "Python 3 (ipykernel)",
   "language": "python",
   "name": "python3"
  },
  "language_info": {
   "codemirror_mode": {
    "name": "ipython",
    "version": 3
   },
   "file_extension": ".py",
   "mimetype": "text/x-python",
   "name": "python",
   "nbconvert_exporter": "python",
   "pygments_lexer": "ipython3",
   "version": "3.11.7"
  }
 },
 "nbformat": 4,
 "nbformat_minor": 5
}
